{
 "cells": [
  {
   "cell_type": "code",
   "execution_count": 1,
   "metadata": {},
   "outputs": [],
   "source": [
    "import os\n",
    "os.chdir(\"../\")"
   ]
  },
  {
   "cell_type": "code",
   "execution_count": 2,
   "metadata": {},
   "outputs": [
    {
     "data": {
      "text/plain": [
       "'c:\\\\Users\\\\dccha\\\\Desktop\\\\CODING\\\\Projects\\\\AI-powered-Health-Assistant'"
      ]
     },
     "execution_count": 2,
     "metadata": {},
     "output_type": "execute_result"
    }
   ],
   "source": [
    "%pwd"
   ]
  },
  {
   "cell_type": "code",
   "execution_count": 3,
   "metadata": {},
   "outputs": [],
   "source": [
    "from langchain.document_loaders import PyPDFLoader, DirectoryLoader\n",
    "from langchain.text_splitter import RecursiveCharacterTextSplitter\n",
    "from langchain.embeddings import HuggingFaceEmbeddings"
   ]
  },
  {
   "cell_type": "code",
   "execution_count": null,
   "metadata": {},
   "outputs": [],
   "source": [
    "# Extract data from the PDF file\n",
    "def load_pdf_file(data):\n",
    "    loader = DirectoryLoader(data,\n",
    "                             glob=\"*pdf\",\n",
    "                             loader_cls=PyPDFLoader)\n",
    "    documents = loader.load()\n",
    "    return documents"
   ]
  },
  {
   "cell_type": "code",
   "execution_count": 5,
   "metadata": {},
   "outputs": [],
   "source": [
    "extracted_data = load_pdf_file(data='Data/')"
   ]
  },
  {
   "cell_type": "code",
   "execution_count": 6,
   "metadata": {},
   "outputs": [],
   "source": [
    "# Split the Data into Text Chunks\n",
    "\n",
    "def text_split(extracted_data):\n",
    "    text_splitter = RecursiveCharacterTextSplitter(chunk_size=500,\n",
    "                                                   chunk_overlap = 20)\n",
    "    text_chunks = text_splitter.split_documents(extracted_data)\n",
    "    return text_chunks"
   ]
  },
  {
   "cell_type": "code",
   "execution_count": 7,
   "metadata": {},
   "outputs": [
    {
     "name": "stdout",
     "output_type": "stream",
     "text": [
      "Length of Text Chunk :  6970\n"
     ]
    }
   ],
   "source": [
    "text_chunk = text_split(extracted_data)\n",
    "print(\"Length of Text Chunk : \", len(text_chunk))"
   ]
  },
  {
   "cell_type": "code",
   "execution_count": 8,
   "metadata": {},
   "outputs": [],
   "source": [
    "# Download the Embeddings from Hugging Face \n",
    "\n",
    "def download_hugging_face_embedding():\n",
    "    embeddings = HuggingFaceEmbeddings(model_name='sentence-transformers/all-MiniLM-L6-v2')\n",
    "    return embeddings    "
   ]
  },
  {
   "cell_type": "code",
   "execution_count": 9,
   "metadata": {},
   "outputs": [
    {
     "name": "stderr",
     "output_type": "stream",
     "text": [
      "C:\\Users\\dccha\\AppData\\Local\\Temp\\ipykernel_3460\\1349958692.py:4: LangChainDeprecationWarning: The class `HuggingFaceEmbeddings` was deprecated in LangChain 0.2.2 and will be removed in 1.0. An updated version of the class exists in the :class:`~langchain-huggingface package and should be used instead. To use it run `pip install -U :class:`~langchain-huggingface` and import as `from :class:`~langchain_huggingface import HuggingFaceEmbeddings``.\n",
      "  embeddings = HuggingFaceEmbeddings(model_name='sentence-transformers/all-MiniLM-L6-v2')\n",
      "d:\\Anaconda\\envs\\medichat\\lib\\site-packages\\tqdm\\auto.py:21: TqdmWarning: IProgress not found. Please update jupyter and ipywidgets. See https://ipywidgets.readthedocs.io/en/stable/user_install.html\n",
      "  from .autonotebook import tqdm as notebook_tqdm\n"
     ]
    }
   ],
   "source": [
    "embeddings = download_hugging_face_embedding()"
   ]
  },
  {
   "cell_type": "code",
   "execution_count": 10,
   "metadata": {},
   "outputs": [
    {
     "name": "stdout",
     "output_type": "stream",
     "text": [
      "Length 384\n",
      "Query result :  [-0.06402626633644104, 0.013144535943865776, -0.07630716264247894, 0.04439324513077736, -0.035104747861623764, -0.04568645730614662, 0.13939104974269867, 0.056085795164108276, -0.012278692796826363, -0.0015933518297970295, 0.07787694036960602, -0.0348651297390461, -0.0010845958022400737, -0.0024508845526725054, -0.06255487352609634, 0.04585983604192734, -0.02959422394633293, 0.014354272745549679, -0.13443471491336823, -0.05806855857372284, -0.037634968757629395, 0.01632891409099102, -0.04902853071689606, -0.02839430421590805, 0.002721433062106371, 0.012373951263725758, -0.05997093766927719, -0.007044442929327488, -0.01936623454093933, -0.07877066731452942, 0.04980788007378578, 0.03340892493724823, 0.042316410690546036, 0.007830302231013775, 0.03347261995077133, -0.027929510921239853, -0.025156429037451744, -0.04247191920876503, 0.026612475514411926, 0.04046086221933365, -0.07097961753606796, -0.06501173973083496, -0.01745101436972618, 0.031125977635383606, -0.021632933989167213, -0.004615339916199446, -0.014400596730411053, 0.03771768510341644, 0.054157160222530365, 0.05903944745659828, -0.04486618936061859, -0.0006514961714856327, -0.0075246188789606094, 0.01704651676118374, -0.035174500197172165, 0.0439290888607502, -0.015477980487048626, -0.025060659274458885, 0.03181137144565582, -0.019738921895623207, 0.004923854023218155, 0.004284973721951246, -0.09975559264421463, 0.05449266359210014, -0.03272957727313042, -0.016275104135274887, 0.020954594016075134, -0.08504300564527512, 0.000858785177115351, 0.05905899405479431, 0.0424295999109745, -0.06660239398479462, 0.012089543975889683, 0.0322740264236927, 0.027796374633908272, 0.006428639404475689, 0.015107795596122742, -0.10198706388473511, 0.02286633476614952, 0.02369348146021366, 0.028648218140006065, -0.06404542177915573, 0.019304780289530754, -0.061826191842556, 0.049247466027736664, -0.07697060704231262, 0.005056384950876236, 0.006748169660568237, 0.018994169309735298, 0.053028952330350876, -0.04033512994647026, 0.009259648621082306, 0.01976332627236843, -0.01181866880506277, 0.015548951923847198, -0.00534452311694622, 0.04944874346256256, -0.08430816978216171, -0.10163315385580063, 0.16555945575237274, -0.04257170110940933, 0.048414915800094604, 0.0434722937643528, 0.04051799699664116, 0.029134253039956093, -0.06683377176523209, 0.005719016306102276, 0.0370832122862339, -0.01682906597852707, 0.04433568939566612, -0.058662813156843185, -0.0554332509636879, -0.008755547925829887, -0.003473048098385334, 0.0750044509768486, 0.05890343710780144, -0.039667487144470215, 0.02512759156525135, 0.025245927274227142, -0.10954299569129944, 0.04716674983501434, 0.0495288260281086, -0.06224890053272247, 0.0769987404346466, -0.019493460655212402, -0.0055607398971915245, 0.03608756139874458, 4.751006997155459e-34, -0.05260148271918297, 0.016683433204889297, -0.005628172308206558, 0.003431305754929781, 0.0039017111994326115, 0.010527120903134346, -0.07880210876464844, 0.06388641148805618, 0.03154486417770386, 0.049134425818920135, 0.03583143278956413, 0.05484320595860481, -0.04141046106815338, 0.021123923361301422, 0.03961138427257538, -0.012752699665725231, -0.038124144077301025, -0.00011158386041643098, -0.027133159339427948, 0.016564950346946716, -0.04791902005672455, 0.12924779951572418, 0.05302761122584343, 0.1456640213727951, -0.054817602038383484, -0.047231946140527725, 0.021589115262031555, -0.04731833562254906, -0.019036153331398964, 0.05085837468504906, -0.06203795224428177, -0.0038928422145545483, -0.028643259778618813, 0.00796673633158207, -0.010368171148002148, 0.011522120796144009, -0.001104495138861239, -0.07737741619348526, -0.04547550901770592, 0.04316728189587593, 0.026714395731687546, -0.03932008519768715, -0.06014953926205635, -0.0018011614447459579, 0.07014778256416321, 0.04689416289329529, 0.003206778783351183, 0.014511778019368649, -0.0009149787947535515, 0.008627703413367271, -0.04276665672659874, 0.05814205855131149, -0.018763041123747826, 0.008837847970426083, -0.05179557949304581, -0.02196524105966091, -0.0928320363163948, 0.013809636235237122, 0.08515042066574097, -0.11371591687202454, 0.03220468387007713, 0.015589642338454723, 0.07573531568050385, -0.10756485909223557, -0.12069066613912582, -0.07247947156429291, 0.015314310789108276, 0.01664264313876629, -0.017486125230789185, 0.04553040489554405, -0.019068583846092224, 0.01822534017264843, 0.040719568729400635, 0.09813877940177917, 0.07106080651283264, 0.03192131966352463, 0.037796128541231155, 0.03330600634217262, 0.00279274582862854, -0.07257958501577377, -0.09002438932657242, 0.026309598237276077, 0.07295537739992142, -0.0490841269493103, 0.006719854660332203, -0.08165106177330017, -0.03074905462563038, 0.03985191509127617, 0.08238285034894943, -0.006215031258761883, -0.09748344868421555, 0.0546487495303154, 0.020296229049563408, 0.0034880496095865965, 0.04136189445853233, -1.6909578072074764e-33, 0.017146825790405273, -0.10484486073255539, -0.06351981312036514, 0.03809832036495209, -0.032950058579444885, 0.026210984215140343, -0.06936948001384735, 0.13596302270889282, -0.011821545660495758, -0.02711452730000019, -0.03460298106074333, 0.005496220197528601, 0.029892388731241226, -0.07465137541294098, 0.10614267736673355, 0.028480349108576775, 0.07327879965305328, 0.006058922037482262, -0.019401278346776962, 0.09647296369075775, -0.056469954550266266, 0.04923876002430916, -0.004587833769619465, 0.021598558872938156, -0.017248746007680893, 0.059562791138887405, -0.012157933786511421, -0.07792212069034576, -0.08178336173295975, 0.03789311647415161, 0.005731803365051746, -0.0011026703286916018, 0.035937123000621796, -0.07006172090768814, -0.06719017028808594, 0.07659289240837097, 0.012015825137495995, 0.02745983377099037, -0.13353028893470764, 0.09413884580135345, 0.03813560679554939, -0.018773743882775307, -0.06747125834226608, 0.06031259521842003, 0.04341067373752594, 0.014826939441263676, -0.029909446835517883, -0.05821472406387329, 0.06416768580675125, -0.027792051434516907, -0.0547543540596962, 0.030284959822893143, 0.008774198591709137, -0.0974104180932045, 0.042464032769203186, 0.030438173562288284, 0.0010954317403957248, -0.08166542649269104, -0.003914708271622658, -0.022256990894675255, 0.02012486942112446, -0.005119888577610254, -0.004078476689755917, 0.015814682468771935, 0.09553077071905136, -0.03247540816664696, -0.07063901424407959, 0.03647289797663689, -0.0029127190355211496, 0.08805648982524872, 0.05463157221674919, 0.04720897227525711, -0.09363000094890594, 0.040148183703422546, -0.005642754025757313, -0.040318459272384644, 0.04393027350306511, -0.0774727463722229, -0.1019601821899414, -0.07168261706829071, -0.03434910252690315, 0.004243934992700815, -0.000469173799501732, 0.052742086350917816, -0.07215749472379684, -0.005520759150385857, 0.04828604683279991, 0.03275487571954727, -0.012599697336554527, 0.03375916928052902, 0.02400321513414383, 0.0479934997856617, 0.0010976932244375348, 0.03447965532541275, 0.04801560938358307, -1.850063036101801e-08, 0.03529093787074089, 0.09698332846164703, 0.06773443520069122, -0.01277480274438858, 0.07524579763412476, -0.018641678616404533, -0.06354346126317978, 0.028854986652731895, -0.007910086773335934, 0.009646161459386349, -0.07180579751729965, -0.020020797848701477, 0.0684027150273323, 0.09895938634872437, 0.031194409355521202, 0.05024523288011551, -0.04466332867741585, 0.01942971535027027, -0.02076391689479351, 0.01540730893611908, -0.07033147662878036, -0.014428849332034588, 0.029755663126707077, -0.014519762247800827, -0.0808945894241333, 0.06087185814976692, 0.025440381839871407, 0.0023705221246927977, -0.011913805268704891, 0.04687999188899994, -0.06420473009347916, 0.06668930500745773, -0.021961484104394913, -0.021334994584321976, -0.027486003935337067, -0.00379429804161191, 0.1027861014008522, -0.10498705506324768, -0.0383300855755806, -0.013801239430904388, -0.007084528915584087, 0.007840335369110107, 0.05528848245739937, 0.04752367362380028, -0.013519764877855778, -0.02338690124452114, 0.08651015907526016, -0.03884849697351456, -0.021917080506682396, -0.02087145857512951, -0.020298058167099953, 0.027862094342708588, -0.016437917947769165, 0.03950729966163635, 0.08977054804563522, -0.020052466541528702, -0.030108485370874405, 0.036250390112400055, -0.06500907242298126, -0.024380894377827644, 0.029863432049751282, 0.00804996769875288, 0.022614313289523125, -0.1085607185959816]\n"
     ]
    }
   ],
   "source": [
    "# Testing the embedding\n",
    "query_result = embeddings.embed_query(\"Acrogemaly\")\n",
    "print(\"Length\", len(query_result))\n",
    "print(\"Query result : \", query_result)"
   ]
  },
  {
   "cell_type": "code",
   "execution_count": 11,
   "metadata": {},
   "outputs": [],
   "source": [
    "from dotenv import load_dotenv\n",
    "load_dotenv()\n",
    "\n",
    "PINECONE_API_KEY = os.environ.get('PINECONE_API_KEY')"
   ]
  },
  {
   "cell_type": "code",
   "execution_count": 45,
   "metadata": {},
   "outputs": [],
   "source": [
    "from pinecone import Pinecone, ServerlessSpec\n",
    "\n",
    "\n",
    "pc = Pinecone(api_key=PINECONE_API_KEY)\n",
    "\n",
    "index_name = \"medichat\"\n",
    "\n",
    "pc.create_index(\n",
    "    name=index_name,\n",
    "    dimension=384, # Replace with your model dimensions\n",
    "    metric=\"cosine\", # Replace with your model metric\n",
    "    spec=ServerlessSpec(\n",
    "        cloud=\"aws\",\n",
    "        region=\"us-east-1\"\n",
    "    ) \n",
    ")"
   ]
  },
  {
   "cell_type": "code",
   "execution_count": 46,
   "metadata": {},
   "outputs": [],
   "source": [
    "# Embed each chunk and upsert the embeddings into your Pinecone index\n",
    "from langchain.vectorstores import Pinecone\n",
    "\n",
    "docsearch = Pinecone.from_documents(\n",
    "    documents=text_chunk,\n",
    "    index_name=index_name,\n",
    "    embedding=embeddings\n",
    ")"
   ]
  },
  {
   "cell_type": "code",
   "execution_count": 47,
   "metadata": {},
   "outputs": [],
   "source": [
    "# Load Existing index\n",
    "from langchain_pinecone import Pinecone\n",
    "docsearch = Pinecone.from_existing_index(\n",
    "    index_name=index_name,\n",
    "    embedding=embeddings\n",
    ")"
   ]
  },
  {
   "cell_type": "code",
   "execution_count": 14,
   "metadata": {},
   "outputs": [
    {
     "data": {
      "text/plain": [
       "<langchain_community.vectorstores.pinecone.Pinecone at 0x298012c3a90>"
      ]
     },
     "execution_count": 14,
     "metadata": {},
     "output_type": "execute_result"
    }
   ],
   "source": [
    "docsearch"
   ]
  },
  {
   "cell_type": "code",
   "execution_count": 15,
   "metadata": {},
   "outputs": [],
   "source": [
    "retriever = docsearch.as_retriever(search_type=\"similarity\",\n",
    "                                   search_kwargs={\"k\":3})"
   ]
  },
  {
   "cell_type": "code",
   "execution_count": 16,
   "metadata": {},
   "outputs": [
    {
     "data": {
      "text/plain": [
       "[Document(metadata={'author': '', 'creationdate': '2017-05-01T10:37:35-07:00', 'creator': '', 'keywords': '', 'moddate': '2017-05-01T10:37:35-07:00', 'page': 425.0, 'page_label': '426', 'producer': 'GPL Ghostscript 9.10', 'source': 'Data\\\\The_GALE_ENCYCLOPEDIA_of_MEDICINE_SECOND.pdf', 'subject': '', 'title': '', 'total_pages': 759.0}, page_content='Corticosteriod—A group of synthetic hormones\\nthat are used to prevent or reduce inflammation.\\nToxic effects may result from rapid withdrawal after\\nprolonged use or from continued use of large doses.\\nPatch test—A skin test that is done to identify aller-\\ngens. A suspected substance is applied to the skin.\\nAfter 24–48 hours, if the area is red and swollen,\\nthe test is positive for that substance. If no reaction\\noccurs, another substance is applied. This is con-'),\n",
       " Document(metadata={'author': '', 'creationdate': '2017-05-01T10:37:35-07:00', 'creator': '', 'keywords': '', 'moddate': '2017-05-01T10:37:35-07:00', 'page': 298.0, 'page_label': '299', 'producer': 'GPL Ghostscript 9.10', 'source': 'Data\\\\The_GALE_ENCYCLOPEDIA_of_MEDICINE_SECOND.pdf', 'subject': '', 'title': '', 'total_pages': 759.0}, page_content='Corticosteroids—A group of anti-inflammatory\\nsubstances often used to treat skin conditions.\\nImmune response—The protective reaction by the\\nimmune system against foreign antigens (sub-\\nstances that the body perceives as potentially dan-\\ngerous). The immune system combats disease by\\nneutralizing or destroying antigens.\\ncontact dermatitis becomes a chronic and disabling con-\\ndition that can have a profound effect on employability\\nand quality of life.\\nPrevention'),\n",
       " Document(metadata={'author': '', 'creationdate': '2017-05-01T10:37:35-07:00', 'creator': '', 'keywords': '', 'moddate': '2017-05-01T10:37:35-07:00', 'page': 423.0, 'page_label': '424', 'producer': 'GPL Ghostscript 9.10', 'source': 'Data\\\\The_GALE_ENCYCLOPEDIA_of_MEDICINE_SECOND.pdf', 'subject': '', 'title': '', 'total_pages': 759.0}, page_content='thing that irritates the skin and is manifested by one or\\nmore lines of red, swollen, blistered skin that may itch or\\nGALE ENCYCLOPEDIA OF MEDICINE 21036\\nDermatitis')]"
      ]
     },
     "execution_count": 16,
     "metadata": {},
     "output_type": "execute_result"
    }
   ],
   "source": [
    "retrieved_docs = retriever.invoke(\"What is Acne?\")\n",
    "retrieved_docs"
   ]
  },
  {
   "cell_type": "code",
   "execution_count": 17,
   "metadata": {},
   "outputs": [],
   "source": [
    "os.environ[\"PINECONE_API_KEY\"] = PINECONE_API_KEY"
   ]
  },
  {
   "cell_type": "code",
   "execution_count": 39,
   "metadata": {},
   "outputs": [],
   "source": [
    "from langchain_openai import ChatOpenAI\n",
    "\n",
    "# Use Groq Cloud Llama 3 API\n",
    "llm = ChatOpenAI(\n",
    "    model=\"mixtral-8x7b-32768\",  \n",
    "    openai_api_base=\"https://api.groq.com/openai/v1\",\n",
    "    openai_api_key=\"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\",\n",
    "    temperature=0.4,\n",
    "    max_tokens=500\n",
    ")"
   ]
  },
  {
   "cell_type": "code",
   "execution_count": null,
   "metadata": {},
   "outputs": [],
   "source": [
    "from langchain.chains import create_retrieval_chain\n",
    "from langchain.chains.combine_documents import create_stuff_documents_chain\n",
    "from langchain_core.prompts import ChatPromptTemplate\n",
    "\n",
    "system_prompt = (\n",
    "    \"You are an assistant for question-answering tasks.\"\n",
    "    \"Use the following pieces of retrieved context to answer\"\n",
    "    \"the question. If You don't know the answer, say that you don't know.\"\n",
    "    \"Use three sentences maximum and keep the answer concise.\"\n",
    "    \"\\n\\n\"\n",
    "    \"{context}\"\n",
    ")\n",
    "\n",
    "prompt = ChatPromptTemplate.from_messages(\n",
    "    [\n",
    "        (\"system\",system_prompt),\n",
    "        (\"human\",\"{input}\"),\n",
    "    ]\n",
    ")"
   ]
  },
  {
   "cell_type": "code",
   "execution_count": 41,
   "metadata": {},
   "outputs": [],
   "source": [
    "question_answer_chain = create_stuff_documents_chain(llm,prompt)\n",
    "rag_chain = create_retrieval_chain(retriever, question_answer_chain)"
   ]
  },
  {
   "cell_type": "code",
   "execution_count": 43,
   "metadata": {},
   "outputs": [
    {
     "name": "stdout",
     "output_type": "stream",
     "text": [
      "Corticosteroids are a group of synthetic hormones used to prevent or reduce inflammation, but toxic effects can result from rapid withdrawal after prolonged use or from continued use of large doses. A patch test is a skin test used to identify allergens, where a suspected substance is applied to the skin and if the area is red and swollen after 24-48 hours, the test is positive for that substance. This is relevant to your question as corticosteroids and patch tests are both related to skin conditions and immune responses.\n"
     ]
    }
   ],
   "source": [
    "response = rag_chain.invoke({\"input\":\"What is acne?\"})\n",
    "print(response['answer'])"
   ]
  },
  {
   "cell_type": "code",
   "execution_count": null,
   "metadata": {},
   "outputs": [],
   "source": []
  }
 ],
 "metadata": {
  "kernelspec": {
   "display_name": "medichat",
   "language": "python",
   "name": "python3"
  },
  "language_info": {
   "codemirror_mode": {
    "name": "ipython",
    "version": 3
   },
   "file_extension": ".py",
   "mimetype": "text/x-python",
   "name": "python",
   "nbconvert_exporter": "python",
   "pygments_lexer": "ipython3",
   "version": "3.10.16"
  }
 },
 "nbformat": 4,
 "nbformat_minor": 2
}
